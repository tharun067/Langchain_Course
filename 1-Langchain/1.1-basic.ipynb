{
 "cells": [
  {
   "cell_type": "markdown",
   "id": "fc04ef68",
   "metadata": {},
   "source": [
    "#### Getting started with Langchain and Openai API / Google API\n",
    "\n",
    "*  Get setup with Langchain, Langsmith and Langserve.\n",
    "*  Use the most basic and common components of Langchian: Prompt templates, models and output parsers.\n",
    "*  Build a simple application with Langchian\n",
    "*  Trace your application with LangSmith\n",
    "*  Serve your application with LangServe"
   ]
  },
  {
   "cell_type": "code",
   "execution_count": null,
   "id": "aa2f5cfe",
   "metadata": {},
   "outputs": [],
   "source": []
  },
  {
   "cell_type": "code",
   "execution_count": null,
   "id": "18bd803e",
   "metadata": {},
   "outputs": [],
   "source": []
  }
 ],
 "metadata": {
  "kernelspec": {
   "display_name": "Python 3",
   "language": "python",
   "name": "python3"
  },
  "language_info": {
   "name": "python",
   "version": "3.12.11"
  }
 },
 "nbformat": 4,
 "nbformat_minor": 5
}
