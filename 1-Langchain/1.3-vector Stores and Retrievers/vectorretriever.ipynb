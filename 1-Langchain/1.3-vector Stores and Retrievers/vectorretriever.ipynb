{
 "cells": [
  {
   "cell_type": "markdown",
   "id": "6b28cd2d",
   "metadata": {},
   "source": [
    "### Vector Store and retrievers\n",
    "This will familiarize you with LangChain's Vector store and retriever abstractions. These abstractions are designed to support retrieval of data -- from (vector) databases and other sources -- for integration with LLM workflows. They are important for applications that fetch data to be reasoned over as part of model inference, as in the case of retrieval-agumented generation.\n",
    "\n",
    "We will cover:\n",
    "* Documents\n",
    "* Vector stores\n",
    "* Retrievers"
   ]
  },
  {
   "cell_type": "markdown",
   "id": "75dacb7e",
   "metadata": {},
   "source": [
    "### Documents\n",
    "Langchain implements a Document abstraction, which is intented to represent a unit of text and associated metadata. It has two attributes:\n",
    "\n",
    "page_content: a string representing the content;\n",
    "metadata: a dict containing arbitarary metadata.\n",
    "The metadata attribute can capture information about the source of the document, it's relationship to other documents, and other information. Note that an individual Document objective often represents a chunk of a larger document.\n",
    "\n",
    "Let's generate some sample documents:"
   ]
  },
  {
   "cell_type": "code",
   "execution_count": 1,
   "id": "5cd2b5be",
   "metadata": {},
   "outputs": [],
   "source": [
    "from langchain_core.documents import Document\n",
    "\n",
    "documents = [\n",
    "    Document(\n",
    "        page_content=\"Dogs are great companions, known for their loyalty and friendliness.\",\n",
    "        metadata={\"source\":\"mammal-pets-doc\"}\n",
    "    ),\n",
    "    Document(\n",
    "        page_content=\"Cats are independent animals that often enjoy solitude, but can be affectionate.\",\n",
    "        metadata={\"source\":\"mammal-pets-doc\"}\n",
    "    ),\n",
    "    Document(\n",
    "        page_content=\"Parrots are colorful birds that can mimic human speech and are highly social.\",\n",
    "        metadata={\"source\":\"bird-pets-doc\"}\n",
    "    ),\n",
    "    Document(\n",
    "        page_content=\"Goldfish are popular aquarium pets that require a clean environment and proper care.\",\n",
    "        metadata={\"source\":\"fish-pets-doc\"}\n",
    "    ),\n",
    "]"
   ]
  },
  {
   "cell_type": "code",
   "execution_count": 2,
   "id": "02382371",
   "metadata": {},
   "outputs": [
    {
     "data": {
      "text/plain": [
       "[Document(metadata={'source': 'mammal-pets-doc'}, page_content='Dogs are great companions, known for their loyalty and friendliness.'),\n",
       " Document(metadata={'source': 'mammal-pets-doc'}, page_content='Cats are independent animals that often enjoy solitude, but can be affectionate.'),\n",
       " Document(metadata={'source': 'bird-pets-doc'}, page_content='Parrots are colorful birds that can mimic human speech and are highly social.'),\n",
       " Document(metadata={'source': 'fish-pets-doc'}, page_content='Goldfish are popular aquarium pets that require a clean environment and proper care.')]"
      ]
     },
     "execution_count": 2,
     "metadata": {},
     "output_type": "execute_result"
    }
   ],
   "source": [
    "documents"
   ]
  },
  {
   "cell_type": "code",
   "execution_count": 3,
   "id": "b3d80153",
   "metadata": {},
   "outputs": [
    {
     "data": {
      "text/plain": [
       "ChatGroq(client=<groq.resources.chat.completions.Completions object at 0x000001FB1C75E900>, async_client=<groq.resources.chat.completions.AsyncCompletions object at 0x000001FB1C8963C0>, model_name='llama-3.1-8b-instant', temperature=1e-08, model_kwargs={}, groq_api_key=SecretStr('**********'))"
      ]
     },
     "execution_count": 3,
     "metadata": {},
     "output_type": "execute_result"
    }
   ],
   "source": [
    "import os\n",
    "from langchain_groq import ChatGroq\n",
    "from dotenv import load_dotenv\n",
    "load_dotenv()\n",
    "os.environ[\"HF_Token\"] = os.getenv(\"HF_Token\")\n",
    "\n",
    "llm = ChatGroq(model=\"llama-3.1-8b-instant\", temperature=0)\n",
    "llm"
   ]
  },
  {
   "cell_type": "code",
   "execution_count": 4,
   "id": "50863c33",
   "metadata": {},
   "outputs": [],
   "source": [
    "from langchain_huggingface import HuggingFaceEmbeddings\n",
    "embeddings = HuggingFaceEmbeddings(model_name=\"sentence-transformers/all-MiniLM-L6-v2\")"
   ]
  },
  {
   "cell_type": "code",
   "execution_count": 5,
   "id": "4172fd04",
   "metadata": {},
   "outputs": [
    {
     "data": {
      "text/plain": [
       "<langchain_chroma.vectorstores.Chroma at 0x1fb3a02c140>"
      ]
     },
     "execution_count": 5,
     "metadata": {},
     "output_type": "execute_result"
    }
   ],
   "source": [
    "## VectorStores\n",
    "from langchain_chroma import Chroma\n",
    "\n",
    "vectorstore = Chroma.from_documents(documents, embeddings)\n",
    "vectorstore"
   ]
  },
  {
   "cell_type": "code",
   "execution_count": 7,
   "id": "c2924b9e",
   "metadata": {},
   "outputs": [
    {
     "data": {
      "text/plain": [
       "[Document(id='5f37a1ad-0f92-40b4-aa4e-ab80f9aef476', metadata={'source': 'mammal-pets-doc'}, page_content='Cats are independent animals that often enjoy solitude, but can be affectionate.'),\n",
       " Document(id='37532ac8-b5b9-43b3-9970-092ea2613345', metadata={'source': 'mammal-pets-doc'}, page_content='Dogs are great companions, known for their loyalty and friendliness.'),\n",
       " Document(id='d18db31c-80a6-4a40-bcda-55aee2c20405', metadata={'source': 'fish-pets-doc'}, page_content='Goldfish are popular aquarium pets that require a clean environment and proper care.'),\n",
       " Document(id='04c5f2bd-697a-482a-8f64-24bfa061c72c', metadata={'source': 'bird-pets-doc'}, page_content='Parrots are colorful birds that can mimic human speech and are highly social.')]"
      ]
     },
     "execution_count": 7,
     "metadata": {},
     "output_type": "execute_result"
    }
   ],
   "source": [
    "vectorstore.similarity_search(\"Which pet is the most independent?\")"
   ]
  },
  {
   "cell_type": "code",
   "execution_count": 8,
   "id": "7d605abb",
   "metadata": {},
   "outputs": [
    {
     "data": {
      "text/plain": [
       "[Document(id='5f37a1ad-0f92-40b4-aa4e-ab80f9aef476', metadata={'source': 'mammal-pets-doc'}, page_content='Cats are independent animals that often enjoy solitude, but can be affectionate.'),\n",
       " Document(id='37532ac8-b5b9-43b3-9970-092ea2613345', metadata={'source': 'mammal-pets-doc'}, page_content='Dogs are great companions, known for their loyalty and friendliness.'),\n",
       " Document(id='d18db31c-80a6-4a40-bcda-55aee2c20405', metadata={'source': 'fish-pets-doc'}, page_content='Goldfish are popular aquarium pets that require a clean environment and proper care.'),\n",
       " Document(id='04c5f2bd-697a-482a-8f64-24bfa061c72c', metadata={'source': 'bird-pets-doc'}, page_content='Parrots are colorful birds that can mimic human speech and are highly social.')]"
      ]
     },
     "execution_count": 8,
     "metadata": {},
     "output_type": "execute_result"
    }
   ],
   "source": [
    "## Async query\n",
    "await vectorstore.asimilarity_search(\"Which pet is the most independent?\")"
   ]
  },
  {
   "cell_type": "code",
   "execution_count": 9,
   "id": "587f8ab9",
   "metadata": {},
   "outputs": [
    {
     "data": {
      "text/plain": [
       "[(Document(id='5f37a1ad-0f92-40b4-aa4e-ab80f9aef476', metadata={'source': 'mammal-pets-doc'}, page_content='Cats are independent animals that often enjoy solitude, but can be affectionate.'),\n",
       "  1.0698992013931274),\n",
       " (Document(id='37532ac8-b5b9-43b3-9970-092ea2613345', metadata={'source': 'mammal-pets-doc'}, page_content='Dogs are great companions, known for their loyalty and friendliness.'),\n",
       "  1.574089765548706),\n",
       " (Document(id='04c5f2bd-697a-482a-8f64-24bfa061c72c', metadata={'source': 'bird-pets-doc'}, page_content='Parrots are colorful birds that can mimic human speech and are highly social.'),\n",
       "  1.6840347051620483),\n",
       " (Document(id='d18db31c-80a6-4a40-bcda-55aee2c20405', metadata={'source': 'fish-pets-doc'}, page_content='Goldfish are popular aquarium pets that require a clean environment and proper care.'),\n",
       "  1.837925910949707)]"
      ]
     },
     "execution_count": 9,
     "metadata": {},
     "output_type": "execute_result"
    }
   ],
   "source": [
    "vectorstore.similarity_search_with_score(\"cat\")"
   ]
  },
  {
   "cell_type": "markdown",
   "id": "cab1cbee",
   "metadata": {},
   "source": [
    "#### Retrievers\n",
    "Langchain Vectorstore objects do not subclass Runnable, and so cannot immediately be integrated into Langchian Expression Language chains.\n",
    "\n",
    "Langchian Retrievers are Runnables, so they implements a standard set of methods (e.g., synchornous and asynchornous invoke and batch operations) and are designed to be incorporated in LCEL chains.\n",
    "\n",
    "We can create a simple version of this ourselves, without subclassing Retriever. If we choose what method we wish to use to retrieve documents, we can create a runnable easily. Below we will build one around the similarity_search method:"
   ]
  },
  {
   "cell_type": "code",
   "execution_count": 10,
   "id": "9f78c1fd",
   "metadata": {},
   "outputs": [
    {
     "data": {
      "text/plain": [
       "[[Document(id='5f37a1ad-0f92-40b4-aa4e-ab80f9aef476', metadata={'source': 'mammal-pets-doc'}, page_content='Cats are independent animals that often enjoy solitude, but can be affectionate.')],\n",
       " [Document(id='37532ac8-b5b9-43b3-9970-092ea2613345', metadata={'source': 'mammal-pets-doc'}, page_content='Dogs are great companions, known for their loyalty and friendliness.')]]"
      ]
     },
     "execution_count": 10,
     "metadata": {},
     "output_type": "execute_result"
    }
   ],
   "source": [
    "from typing import List\n",
    "\n",
    "from langchain_core.documents import Document\n",
    "from langchain_core.runnables import RunnableLambda\n",
    "\n",
    "retriever = RunnableLambda(vectorstore.similarity_search).bind(k=1)\n",
    "retriever.batch([\"cat\",\"dog\"])"
   ]
  },
  {
   "cell_type": "markdown",
   "id": "02eba7c8",
   "metadata": {},
   "source": [
    "Vectorstores implements an as_retriever method that will generate a Retriever, specially a VectorStoreRetriever. These retrievers includes specfic search_type and search_kwargs attributes that identify what methods of the underlying vector store to call, and how to parameterize them. For instance, we can replicate the above with the following:"
   ]
  },
  {
   "cell_type": "code",
   "execution_count": 12,
   "id": "52adb4f8",
   "metadata": {},
   "outputs": [
    {
     "data": {
      "text/plain": [
       "[[Document(id='5f37a1ad-0f92-40b4-aa4e-ab80f9aef476', metadata={'source': 'mammal-pets-doc'}, page_content='Cats are independent animals that often enjoy solitude, but can be affectionate.')],\n",
       " [Document(id='37532ac8-b5b9-43b3-9970-092ea2613345', metadata={'source': 'mammal-pets-doc'}, page_content='Dogs are great companions, known for their loyalty and friendliness.')]]"
      ]
     },
     "execution_count": 12,
     "metadata": {},
     "output_type": "execute_result"
    }
   ],
   "source": [
    "retriever = vectorstore.as_retriever(\n",
    "    search_type=\"similarity\", \n",
    "    search_kwargs={\"k\":1}\n",
    ")\n",
    "\n",
    "retriever.batch([\"cat\",\"dog\"])"
   ]
  },
  {
   "cell_type": "code",
   "execution_count": null,
   "id": "f38ae465",
   "metadata": {},
   "outputs": [
    {
     "name": "stdout",
     "output_type": "stream",
     "text": [
      "Cats are independent animals that often enjoy solitude, but can be affectionate.\n"
     ]
    }
   ],
   "source": [
    "## Basic RAG chain\n",
    "from langchain_core.prompts import ChatPromptTemplate\n",
    "from langchain_core.runnables import RunnablePassthrough\n",
    "\n",
    "message = \"\"\"\n",
    "Answer this question using the provided context only.\n",
    "{question}\n",
    "\n",
    "Context:\n",
    "{context}\n",
    "\"\"\"\n",
    "prompt = ChatPromptTemplate.from_messages([(\"human\", message)])\n",
    "\n",
    "rag_chain = {\"context\": retriever, \"question\": RunnablePassthrough()} | prompt | llm\n",
    "\n",
    "response = rag_chain.invoke(\"tell me about cats?\")\n",
    "print(response.content)"
   ]
  },
  {
   "cell_type": "code",
   "execution_count": null,
   "id": "34e4a7f4",
   "metadata": {},
   "outputs": [],
   "source": []
  }
 ],
 "metadata": {
  "kernelspec": {
   "display_name": "Python 3",
   "language": "python",
   "name": "python3"
  },
  "language_info": {
   "codemirror_mode": {
    "name": "ipython",
    "version": 3
   },
   "file_extension": ".py",
   "mimetype": "text/x-python",
   "name": "python",
   "nbconvert_exporter": "python",
   "pygments_lexer": "ipython3",
   "version": "3.12.11"
  }
 },
 "nbformat": 4,
 "nbformat_minor": 5
}
