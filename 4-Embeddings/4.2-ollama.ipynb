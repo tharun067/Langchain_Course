{
 "cells": [
  {
   "cell_type": "markdown",
   "id": "cc63a75a",
   "metadata": {},
   "source": [
    "#### Ollama\n",
    "Ollama supports embedding models, making it possible to build retrieval augmented generation (RAG) applications that combine text prompts with existing documents or other data."
   ]
  },
  {
   "cell_type": "code",
   "execution_count": 1,
   "id": "6f100ed7",
   "metadata": {},
   "outputs": [],
   "source": [
    "from langchain_community.embeddings import OllamaEmbeddings"
   ]
  },
  {
   "cell_type": "code",
   "execution_count": null,
   "id": "328e70af",
   "metadata": {},
   "outputs": [],
   "source": [
    "embeddings =(\n",
    "    OllamaEmbeddings(model=\"llama2\")\n",
    ")"
   ]
  },
  {
   "cell_type": "code",
   "execution_count": null,
   "id": "c01980a4",
   "metadata": {},
   "outputs": [],
   "source": [
    "embeddings"
   ]
  },
  {
   "cell_type": "code",
   "execution_count": null,
   "id": "32f1985b",
   "metadata": {},
   "outputs": [],
   "source": [
    "r1 = embeddings.embed_documents(\n",
    "    [\"Alpha is the first letter of the greek alphabet.\"],\n",
    "    [\"Beta is the second letter of the greek alphabet.\"],\n",
    ")"
   ]
  },
  {
   "cell_type": "code",
   "execution_count": null,
   "id": "2f85cb64",
   "metadata": {},
   "outputs": [],
   "source": [
    "len(r1[0])"
   ]
  },
  {
   "cell_type": "code",
   "execution_count": null,
   "id": "61fcb687",
   "metadata": {},
   "outputs": [],
   "source": [
    "embeddings.embed_query(\"Second letter of greek alphabet\")"
   ]
  },
  {
   "cell_type": "code",
   "execution_count": null,
   "id": "5994c1bb",
   "metadata": {},
   "outputs": [],
   "source": [
    "### Other Embedding Models\n",
    "### https://ollama.com/blog/embedding-models\n",
    "embeddings = OllamaEmbeddings(model=\"mxbai-embed-large\")\n",
    "text = \"This is a test document.\"\n",
    "query_result = embeddings.embed_query(text)\n",
    "query_result\n"
   ]
  },
  {
   "cell_type": "code",
   "execution_count": null,
   "id": "245a4bb8",
   "metadata": {},
   "outputs": [],
   "source": []
  }
 ],
 "metadata": {
  "kernelspec": {
   "display_name": "Python 3",
   "language": "python",
   "name": "python3"
  },
  "language_info": {
   "codemirror_mode": {
    "name": "ipython",
    "version": 3
   },
   "file_extension": ".py",
   "mimetype": "text/x-python",
   "name": "python",
   "nbconvert_exporter": "python",
   "pygments_lexer": "ipython3",
   "version": "3.12.11"
  }
 },
 "nbformat": 4,
 "nbformat_minor": 5
}
