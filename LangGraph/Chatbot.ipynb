{
 "cells": [
  {
   "cell_type": "markdown",
   "id": "1d92b657",
   "metadata": {},
   "source": [
    "#### Chatbots with Langgraph"
   ]
  },
  {
   "cell_type": "code",
   "execution_count": null,
   "id": "4623ebd3",
   "metadata": {},
   "outputs": [],
   "source": [
    "%pip install langgraph langsmith langchain langchain_community langchain-groq"
   ]
  },
  {
   "cell_type": "code",
   "execution_count": null,
   "id": "f419885f",
   "metadata": {},
   "outputs": [],
   "source": [
    "from google.colab import userdata\n",
    "groq_api_key = userdata.get('GROQ_API_KEY')\n",
    "langsmith = userdata.get('LANSMITH_API_KEY')"
   ]
  },
  {
   "cell_type": "code",
   "execution_count": 2,
   "id": "cb66c851",
   "metadata": {},
   "outputs": [],
   "source": [
    "import os\n",
    "from dotenv import load_dotenv\n",
    "load_dotenv()\n",
    "os.environ['LANGCHAIN_API_KEY'] = os.getenv('LANGCHAIN_API_KEY')"
   ]
  },
  {
   "cell_type": "code",
   "execution_count": 3,
   "id": "c6d44f32",
   "metadata": {},
   "outputs": [],
   "source": [
    "import os\n",
    "os.environ['LANGCHAIN_API_KEY'] = os.getenv('LANGCHAIN_API_KEY')\n",
    "os.environ['LANGCHAIN_TRACING_V2'] = 'true'\n",
    "os.environ['LANGCHAIN_PROJECT'] = 'LanggraphDemo'"
   ]
  },
  {
   "cell_type": "code",
   "execution_count": 5,
   "id": "ca5779fd",
   "metadata": {},
   "outputs": [],
   "source": [
    "from langchain_groq import ChatGroq\n",
    "\n",
    "llm = ChatGroq(model=\"openai/gpt-oss-120b\")"
   ]
  },
  {
   "cell_type": "markdown",
   "id": "4b8ad0a5",
   "metadata": {},
   "source": [
    "#### Start Building Chatbot using Langgraph"
   ]
  },
  {
   "cell_type": "code",
   "execution_count": 6,
   "id": "eee84a84",
   "metadata": {},
   "outputs": [],
   "source": [
    "from typing import Annotated\n",
    "from typing_extensions import TypedDict\n",
    "from langgraph.graph import StateGraph, START, END\n",
    "from langgraph.graph.message import add_messages"
   ]
  },
  {
   "cell_type": "code",
   "execution_count": 7,
   "id": "063281d9",
   "metadata": {},
   "outputs": [],
   "source": [
    "class State(TypedDict):\n",
    "    # Messages have the type 'list'. The `add_messages` function\n",
    "    # in the annotation defines how this state key should be updated\n",
    "    # (in the case, it appends messages to the list, rather than overwriting them)\n",
    "    messages: Annotated[list,add_messages]\n",
    "\n",
    "graph_builder = StateGraph(State)"
   ]
  },
  {
   "cell_type": "code",
   "execution_count": 8,
   "id": "f67b982e",
   "metadata": {},
   "outputs": [],
   "source": [
    "def chatbot(state:State):\n",
    "    return {\"messages\":llm.invoke(state[\"messages\"])}"
   ]
  },
  {
   "cell_type": "code",
   "execution_count": 9,
   "id": "fbe8e3e3",
   "metadata": {},
   "outputs": [
    {
     "data": {
      "text/plain": [
       "<langgraph.graph.state.StateGraph at 0x2074462bce0>"
      ]
     },
     "execution_count": 9,
     "metadata": {},
     "output_type": "execute_result"
    }
   ],
   "source": [
    "graph_builder.add_node(\"chatbot\",chatbot)"
   ]
  },
  {
   "cell_type": "code",
   "execution_count": 10,
   "id": "529130be",
   "metadata": {},
   "outputs": [
    {
     "data": {
      "text/plain": [
       "<langgraph.graph.state.StateGraph at 0x2074462bce0>"
      ]
     },
     "execution_count": 10,
     "metadata": {},
     "output_type": "execute_result"
    }
   ],
   "source": [
    "graph_builder.add_edge(START,\"chatbot\")\n",
    "graph_builder.add_edge(\"chatbot\",END)"
   ]
  },
  {
   "cell_type": "code",
   "execution_count": 11,
   "id": "cf7a64c9",
   "metadata": {},
   "outputs": [],
   "source": [
    "graph = graph_builder.compile()"
   ]
  },
  {
   "cell_type": "code",
   "execution_count": 12,
   "id": "1765905a",
   "metadata": {},
   "outputs": [
    {
     "data": {
      "image/png": "[encoded data removed]",
      "text/plain": [
       "<IPython.core.display.Image object>"
      ]
     },
     "metadata": {},
     "output_type": "display_data"
    }
   ],
   "source": [
    "from IPython.display import display, Image\n",
    "try:\n",
    "    display(Image(graph.get_graph().draw_mermaid_png()))\n",
    "except Exception:\n",
    "    pass"
   ]
  },
  {
   "cell_type": "code",
   "execution_count": 13,
   "id": "b6766498",
   "metadata": {},
   "outputs": [
    {
     "name": "stdout",
     "output_type": "stream",
     "text": [
      "dict_values([{'messages': AIMessage(content='Hello! How can I help you today?', additional_kwargs={'reasoning_content': 'We need to respond as ChatGPT. The user just says \"hi\". We greet back.'}, response_metadata={'token_usage': {'completion_tokens': 38, 'prompt_tokens': 72, 'total_tokens': 110, 'completion_time': 0.081581188, 'prompt_time': 0.006641137, 'queue_time': 9.349467591, 'total_time': 0.088222325}, 'model_name': 'openai/gpt-oss-120b', 'system_fingerprint': 'fp_91af62a853', 'service_tier': 'on_demand', 'finish_reason': 'stop', 'logprobs': None}, id='run--9307a133-bc2b-43e1-8ef0-dc27a1947156-0', usage_metadata={'input_tokens': 72, 'output_tokens': 38, 'total_tokens': 110})}])\n",
      "content='Hello! How can I help you today?' additional_kwargs={'reasoning_content': 'We need to respond as ChatGPT. The user just says \"hi\". We greet back.'} response_metadata={'token_usage': {'completion_tokens': 38, 'prompt_tokens': 72, 'total_tokens': 110, 'completion_time': 0.081581188, 'prompt_time': 0.006641137, 'queue_time': 9.349467591, 'total_time': 0.088222325}, 'model_name': 'openai/gpt-oss-120b', 'system_fingerprint': 'fp_91af62a853', 'service_tier': 'on_demand', 'finish_reason': 'stop', 'logprobs': None} id='run--9307a133-bc2b-43e1-8ef0-dc27a1947156-0' usage_metadata={'input_tokens': 72, 'output_tokens': 38, 'total_tokens': 110}\n",
      "Assistant Hello! How can I help you today?\n",
      "dict_values([{'messages': AIMessage(content='## What Is Machine Learning?\\n\\nMachine Learning (ML) is a branch of artificial intelligence that gives computers the ability to **learn from data** and improve their performance on a task without being explicitly programmed for every possible scenario. Instead of writing step‑by‑step rules, we feed the system examples, let it discover patterns, and then use those patterns to make predictions or decisions on new, unseen data.\\n\\n---\\n\\n## Core Concepts\\n\\n| Concept | What It Means | Example |\\n|---------|----------------|---------|\\n| **Data** | The raw information (numbers, text, images, etc.) that the model learns from. | A table of house prices, a collection of photos, a log of user clicks. |\\n| **Features** | Individual measurable properties extracted from the data. | Square footage, number of bedrooms, pixel intensities. |\\n| **Label / Target** | The outcome we want the model to predict (only in supervised learning). | Sale price, “cat vs. dog”, next‑day stock return. |\\n| **Model** | A mathematical function (or a network of functions) that maps features → predictions. | Linear regression line, decision tree, neural network. |\\n| **Training** | The process of adjusting the model’s parameters so it fits the training data. | Gradient descent updating weights in a neural net. |\\n| **Loss / Cost Function** | A metric that quantifies how far the model’s predictions are from the true labels. | Mean Squared Error, Cross‑Entropy. |\\n| **Optimization** | An algorithm (e.g., gradient descent) that minimizes the loss by tweaking parameters. |\\n| **Evaluation** | Measuring model performance on data it hasn’t seen during training (validation / test sets). | Accuracy, F1‑score, ROC‑AUC, RMSE. |\\n| **Generalization** | The ability of a model to perform well on new, unseen data. |\\n| **Overfitting / Underfitting** | Overfitting: model memorizes training data, performs poorly on new data. <br>Underfitting: model is too simple to capture underlying patterns. |\\n| **Regularization** | Techniques (L1/L2 penalties, dropout, early stopping) that discourage overfitting. |\\n\\n---\\n\\n## Main Types of Machine Learning\\n\\n| Type | How It Works | Typical Tasks |\\n|------|--------------|---------------|\\n| **Supervised Learning** | Learns a mapping from **features → labels** using a labeled dataset. | Classification (spam vs. not spam), Regression (predict house price). |\\n| **Unsupervised Learning** | Finds structure in **unlabeled** data—no explicit target. | Clustering (customer segmentation), Dimensionality reduction (PCA, t‑SNE). |\\n| **Semi‑Supervised Learning** | Uses a small amount of labeled data plus a large amount of unlabeled data. | Improving image classifiers when labeling is expensive. |\\n| **Reinforcement Learning (RL)** | An **agent** interacts with an environment, receives rewards, and learns a policy to maximize cumulative reward. | Game playing (AlphaGo), robotics, recommendation systems. |\\n| **Self‑Supervised Learning** | Creates its own supervision signal from raw data (e.g., predicting masked words in a sentence). | Large‑scale language models (GPT, BERT), vision transformers. |\\n\\n---\\n\\n## Common Algorithms (A Quick Tour)\\n\\n| Category | Algorithm | When It’s Useful |\\n|----------|-----------|------------------|\\n| **Linear Models** | Linear Regression, Logistic Regression | Interpretable baselines; small‑to‑medium data. |\\n| **Tree‑Based** | Decision Trees, Random Forests, Gradient Boosting (XGBoost, LightGBM, CatBoost) | Tabular data, handling mixed feature types, strong performance out‑of‑the‑box. |\\n| **Support Vector Machines (SVM)** | Linear / kernel SVM | High‑dimensional spaces, limited data, clear margin. |\\n| **Nearest Neighbors** | k‑Nearest Neighbors (k‑NN) | Simple, non‑parametric; works well for low‑dimensional data. |\\n| **Neural Networks** | Feed‑forward (MLP), Convolutional Neural Networks (CNN), Recurrent Neural Networks (RNN), Transformers | Image, speech, text, sequential data; large datasets & GPUs. |\\n| **Clustering** | k‑Means, DBSCAN, Hierarchical Clustering | Discover groups in unlabeled data. |\\n| **Dimensionality Reduction** | Principal Component Analysis (PCA), t‑SNE, UMAP | Visualisation, noise reduction, speed‑up. |\\n| **Reinforcement Learning** | Q‑Learning, Deep Q‑Network (DQN), Proximal Policy Optimization (PPO) | Game AI, robotics, control problems. |\\n\\n---\\n\\n## Typical Machine‑Learning Workflow\\n\\n1. **Define the Problem** – classification, regression, clustering, etc.\\n2. **Collect & Explore Data** – gather raw data, visualize, compute statistics.\\n3. **Preprocess** – clean missing values, encode categorical variables, scale/normalize, augment (for images/audio).\\n4. **Feature Engineering** – create informative features, dimensionality reduction, feature selection.\\n5. **Split Data** – training set (≈70‑80\\u202f%), validation set (≈10‑15\\u202f%), test set (≈10‑15\\u202f%).\\n6. **Choose a Model** – start with simple baseline, then try more complex algorithms.\\n7. **Train** – feed the training data, tune hyper‑parameters (learning rate, depth, regularization strength, etc.).\\n8. **Validate** – monitor performance on validation set; use techniques like cross‑validation.\\n9. **Test** – final unbiased evaluation on the hold‑out test set.\\n10. **Deploy** – serve the model via API, embed in an app, or schedule batch predictions.\\n11. **Monitor & Maintain** – track drift, retrain with new data, update as needed.\\n\\n---\\n\\n## Practical Tips for Success\\n\\n| Tip | Why It Helps |\\n|-----|--------------|\\n| **Start Simple** | Baseline models (logistic regression, random forest) give a performance reference and are easy to interpret. |\\n| **Feature Importance** | Understanding which features drive predictions aids debugging and stakeholder trust. |\\n| **Cross‑Validation** | Reduces variance in performance estimates, especially when data is limited. |\\n| **Hyper‑Parameter Search** | Grid search, random search, or Bayesian optimization can uncover better configurations. |\\n| **Regularization & Early Stopping** | Prevents overfitting, especially for high‑capacity models (deep nets). |\\n| **Data Quality > Model Complexity** | Clean, representative data often yields bigger gains than a fancier algorithm. |\\n| **Explainability** | Tools like SHAP, LIME, or feature importance plots help explain decisions to non‑technical audiences. |\\n| **Ethics & Bias Checks** | Inspect training data and model outputs for unfair bias; consider fairness metrics. |\\n| **Scalability** | For large datasets, use distributed training frameworks (Spark MLlib, TensorFlow Distributed, PyTorch DDP). |\\n| **Version Control** | Keep track of data, code, and model versions (e.g., DVC, MLflow). |\\n\\n---\\n\\n## Real‑World Applications\\n\\n| Domain | Example Use Cases |\\n|--------|-------------------|\\n| **Healthcare** | Disease diagnosis from medical images, drug discovery, patient risk scoring. |\\n| **Finance** | Credit scoring, fraud detection, algorithmic trading, portfolio optimization. |\\n| **Retail & E‑Commerce** | Product recommendation, demand forecasting, dynamic pricing. |\\n| **Transportation** | Route optimization, autonomous driving perception, traffic prediction. |\\n| **Natural Language Processing** | Sentiment analysis, chatbots, machine translation, summarization. |\\n| **Computer Vision** | Face recognition, object detection, video analytics, quality inspection. |\\n| **Manufacturing** | Predictive maintenance, defect detection, process optimization. |\\n| **Entertainment** | Content recommendation, music generation, video game AI. |\\n\\n---\\n\\n## Current Trends & Future Directions\\n\\n| Trend | What It Means |\\n|-------|----------------|\\n| **Foundation Models** | Huge, pre‑trained models (e.g., GPT‑4, CLIP, DALL·E) that can be fine‑tuned for many downstream tasks. |\\n| **Self‑Supervised Learning** | Learning useful representations without labels, reducing reliance on expensive annotation. |\\n| **Edge & TinyML** | Deploying ML models on low‑power devices (IoT, smartphones) with quantization and model compression. |\\n| **Explainable AI (XAI)** | Growing emphasis on transparent, interpretable models for regulated industries. |\\n| **Responsible AI** | Systematic frameworks for fairness, privacy (differential privacy), and robustness against adversarial attacks. |\\n| **AutoML** | Automated pipeline building (feature engineering, model selection, hyper‑parameter tuning) to democratize ML. |\\n| **Hybrid AI** | Combining symbolic reasoning with neural networks for better reasoning and data efficiency. |\\n\\n---\\n\\n## Quick Glossary\\n\\n- **Epoch** – One full pass through the training dataset.\\n- **Batch / Mini‑batch** – Subset of training samples used to compute a gradient step.\\n- **Learning Rate** – Step size for updating model parameters during optimization.\\n- **Embedding** – Dense vector representation of high‑dimensional categorical or textual data.\\n- **Dropout** – Randomly zeroes out neurons during training to reduce overfitting.\\n- **Transfer Learning** – Re‑using a model trained on one task for another, often with fine‑tuning.\\n- **Ensemble** – Combining multiple models (e.g., bagging, boosting) to improve performance.\\n\\n---\\n\\n### TL;DR\\n\\nMachine learning lets computers learn patterns from data instead of following hand‑written rules. It works by training models—mathematical functions—on labeled (supervised) or unlabeled (unsupervised) data, optimizing a loss function, and evaluating how well the model generalizes to new inputs. The field includes a rich toolbox of algorithms (linear models, trees, neural nets, clustering, RL, etc.), a standard workflow (collect → clean → feature → train → evaluate → deploy), and countless applications across industry and research. Staying mindful of data quality, model interpretability, and ethical considerations is as important as mastering the algorithms themselves.', additional_kwargs={'reasoning_content': 'The user asks \"explain about machine learning?\" Simple request. Provide an overview: definition, types (supervised, unsupervised, reinforcement), key concepts (features, labels, models, training, loss, overfitting, regularization), algorithms (linear regression, decision trees, SVM, neural networks), applications, pipeline, challenges, future. Should be concise but thorough. No disallowed content. Provide friendly explanation.'}, response_metadata={'token_usage': {'completion_tokens': 2266, 'prompt_tokens': 77, 'total_tokens': 2343, 'completion_time': 4.849267562, 'prompt_time': 0.003161482, 'queue_time': 5.077415806, 'total_time': 4.852429044}, 'model_name': 'openai/gpt-oss-120b', 'system_fingerprint': 'fp_5c888d599f', 'service_tier': 'on_demand', 'finish_reason': 'stop', 'logprobs': None}, id='run--8cedfe83-a88f-4e7a-a609-8be5e34ba5d4-0', usage_metadata={'input_tokens': 77, 'output_tokens': 2266, 'total_tokens': 2343})}])\n",
      "content='## What Is Machine Learning?\\n\\nMachine Learning (ML) is a branch of artificial intelligence that gives computers the ability to **learn from data** and improve their performance on a task without being explicitly programmed for every possible scenario. Instead of writing step‑by‑step rules, we feed the system examples, let it discover patterns, and then use those patterns to make predictions or decisions on new, unseen data.\\n\\n---\\n\\n## Core Concepts\\n\\n| Concept | What It Means | Example |\\n|---------|----------------|---------|\\n| **Data** | The raw information (numbers, text, images, etc.) that the model learns from. | A table of house prices, a collection of photos, a log of user clicks. |\\n| **Features** | Individual measurable properties extracted from the data. | Square footage, number of bedrooms, pixel intensities. |\\n| **Label / Target** | The outcome we want the model to predict (only in supervised learning). | Sale price, “cat vs. dog”, next‑day stock return. |\\n| **Model** | A mathematical function (or a network of functions) that maps features → predictions. | Linear regression line, decision tree, neural network. |\\n| **Training** | The process of adjusting the model’s parameters so it fits the training data. | Gradient descent updating weights in a neural net. |\\n| **Loss / Cost Function** | A metric that quantifies how far the model’s predictions are from the true labels. | Mean Squared Error, Cross‑Entropy. |\\n| **Optimization** | An algorithm (e.g., gradient descent) that minimizes the loss by tweaking parameters. |\\n| **Evaluation** | Measuring model performance on data it hasn’t seen during training (validation / test sets). | Accuracy, F1‑score, ROC‑AUC, RMSE. |\\n| **Generalization** | The ability of a model to perform well on new, unseen data. |\\n| **Overfitting / Underfitting** | Overfitting: model memorizes training data, performs poorly on new data. <br>Underfitting: model is too simple to capture underlying patterns. |\\n| **Regularization** | Techniques (L1/L2 penalties, dropout, early stopping) that discourage overfitting. |\\n\\n---\\n\\n## Main Types of Machine Learning\\n\\n| Type | How It Works | Typical Tasks |\\n|------|--------------|---------------|\\n| **Supervised Learning** | Learns a mapping from **features → labels** using a labeled dataset. | Classification (spam vs. not spam), Regression (predict house price). |\\n| **Unsupervised Learning** | Finds structure in **unlabeled** data—no explicit target. | Clustering (customer segmentation), Dimensionality reduction (PCA, t‑SNE). |\\n| **Semi‑Supervised Learning** | Uses a small amount of labeled data plus a large amount of unlabeled data. | Improving image classifiers when labeling is expensive. |\\n| **Reinforcement Learning (RL)** | An **agent** interacts with an environment, receives rewards, and learns a policy to maximize cumulative reward. | Game playing (AlphaGo), robotics, recommendation systems. |\\n| **Self‑Supervised Learning** | Creates its own supervision signal from raw data (e.g., predicting masked words in a sentence). | Large‑scale language models (GPT, BERT), vision transformers. |\\n\\n---\\n\\n## Common Algorithms (A Quick Tour)\\n\\n| Category | Algorithm | When It’s Useful |\\n|----------|-----------|------------------|\\n| **Linear Models** | Linear Regression, Logistic Regression | Interpretable baselines; small‑to‑medium data. |\\n| **Tree‑Based** | Decision Trees, Random Forests, Gradient Boosting (XGBoost, LightGBM, CatBoost) | Tabular data, handling mixed feature types, strong performance out‑of‑the‑box. |\\n| **Support Vector Machines (SVM)** | Linear / kernel SVM | High‑dimensional spaces, limited data, clear margin. |\\n| **Nearest Neighbors** | k‑Nearest Neighbors (k‑NN) | Simple, non‑parametric; works well for low‑dimensional data. |\\n| **Neural Networks** | Feed‑forward (MLP), Convolutional Neural Networks (CNN), Recurrent Neural Networks (RNN), Transformers | Image, speech, text, sequential data; large datasets & GPUs. |\\n| **Clustering** | k‑Means, DBSCAN, Hierarchical Clustering | Discover groups in unlabeled data. |\\n| **Dimensionality Reduction** | Principal Component Analysis (PCA), t‑SNE, UMAP | Visualisation, noise reduction, speed‑up. |\\n| **Reinforcement Learning** | Q‑Learning, Deep Q‑Network (DQN), Proximal Policy Optimization (PPO) | Game AI, robotics, control problems. |\\n\\n---\\n\\n## Typical Machine‑Learning Workflow\\n\\n1. **Define the Problem** – classification, regression, clustering, etc.\\n2. **Collect & Explore Data** – gather raw data, visualize, compute statistics.\\n3. **Preprocess** – clean missing values, encode categorical variables, scale/normalize, augment (for images/audio).\\n4. **Feature Engineering** – create informative features, dimensionality reduction, feature selection.\\n5. **Split Data** – training set (≈70‑80\\u202f%), validation set (≈10‑15\\u202f%), test set (≈10‑15\\u202f%).\\n6. **Choose a Model** – start with simple baseline, then try more complex algorithms.\\n7. **Train** – feed the training data, tune hyper‑parameters (learning rate, depth, regularization strength, etc.).\\n8. **Validate** – monitor performance on validation set; use techniques like cross‑validation.\\n9. **Test** – final unbiased evaluation on the hold‑out test set.\\n10. **Deploy** – serve the model via API, embed in an app, or schedule batch predictions.\\n11. **Monitor & Maintain** – track drift, retrain with new data, update as needed.\\n\\n---\\n\\n## Practical Tips for Success\\n\\n| Tip | Why It Helps |\\n|-----|--------------|\\n| **Start Simple** | Baseline models (logistic regression, random forest) give a performance reference and are easy to interpret. |\\n| **Feature Importance** | Understanding which features drive predictions aids debugging and stakeholder trust. |\\n| **Cross‑Validation** | Reduces variance in performance estimates, especially when data is limited. |\\n| **Hyper‑Parameter Search** | Grid search, random search, or Bayesian optimization can uncover better configurations. |\\n| **Regularization & Early Stopping** | Prevents overfitting, especially for high‑capacity models (deep nets). |\\n| **Data Quality > Model Complexity** | Clean, representative data often yields bigger gains than a fancier algorithm. |\\n| **Explainability** | Tools like SHAP, LIME, or feature importance plots help explain decisions to non‑technical audiences. |\\n| **Ethics & Bias Checks** | Inspect training data and model outputs for unfair bias; consider fairness metrics. |\\n| **Scalability** | For large datasets, use distributed training frameworks (Spark MLlib, TensorFlow Distributed, PyTorch DDP). |\\n| **Version Control** | Keep track of data, code, and model versions (e.g., DVC, MLflow). |\\n\\n---\\n\\n## Real‑World Applications\\n\\n| Domain | Example Use Cases |\\n|--------|-------------------|\\n| **Healthcare** | Disease diagnosis from medical images, drug discovery, patient risk scoring. |\\n| **Finance** | Credit scoring, fraud detection, algorithmic trading, portfolio optimization. |\\n| **Retail & E‑Commerce** | Product recommendation, demand forecasting, dynamic pricing. |\\n| **Transportation** | Route optimization, autonomous driving perception, traffic prediction. |\\n| **Natural Language Processing** | Sentiment analysis, chatbots, machine translation, summarization. |\\n| **Computer Vision** | Face recognition, object detection, video analytics, quality inspection. |\\n| **Manufacturing** | Predictive maintenance, defect detection, process optimization. |\\n| **Entertainment** | Content recommendation, music generation, video game AI. |\\n\\n---\\n\\n## Current Trends & Future Directions\\n\\n| Trend | What It Means |\\n|-------|----------------|\\n| **Foundation Models** | Huge, pre‑trained models (e.g., GPT‑4, CLIP, DALL·E) that can be fine‑tuned for many downstream tasks. |\\n| **Self‑Supervised Learning** | Learning useful representations without labels, reducing reliance on expensive annotation. |\\n| **Edge & TinyML** | Deploying ML models on low‑power devices (IoT, smartphones) with quantization and model compression. |\\n| **Explainable AI (XAI)** | Growing emphasis on transparent, interpretable models for regulated industries. |\\n| **Responsible AI** | Systematic frameworks for fairness, privacy (differential privacy), and robustness against adversarial attacks. |\\n| **AutoML** | Automated pipeline building (feature engineering, model selection, hyper‑parameter tuning) to democratize ML. |\\n| **Hybrid AI** | Combining symbolic reasoning with neural networks for better reasoning and data efficiency. |\\n\\n---\\n\\n## Quick Glossary\\n\\n- **Epoch** – One full pass through the training dataset.\\n- **Batch / Mini‑batch** – Subset of training samples used to compute a gradient step.\\n- **Learning Rate** – Step size for updating model parameters during optimization.\\n- **Embedding** – Dense vector representation of high‑dimensional categorical or textual data.\\n- **Dropout** – Randomly zeroes out neurons during training to reduce overfitting.\\n- **Transfer Learning** – Re‑using a model trained on one task for another, often with fine‑tuning.\\n- **Ensemble** – Combining multiple models (e.g., bagging, boosting) to improve performance.\\n\\n---\\n\\n### TL;DR\\n\\nMachine learning lets computers learn patterns from data instead of following hand‑written rules. It works by training models—mathematical functions—on labeled (supervised) or unlabeled (unsupervised) data, optimizing a loss function, and evaluating how well the model generalizes to new inputs. The field includes a rich toolbox of algorithms (linear models, trees, neural nets, clustering, RL, etc.), a standard workflow (collect → clean → feature → train → evaluate → deploy), and countless applications across industry and research. Staying mindful of data quality, model interpretability, and ethical considerations is as important as mastering the algorithms themselves.' additional_kwargs={'reasoning_content': 'The user asks \"explain about machine learning?\" Simple request. Provide an overview: definition, types (supervised, unsupervised, reinforcement), key concepts (features, labels, models, training, loss, overfitting, regularization), algorithms (linear regression, decision trees, SVM, neural networks), applications, pipeline, challenges, future. Should be concise but thorough. No disallowed content. Provide friendly explanation.'} response_metadata={'token_usage': {'completion_tokens': 2266, 'prompt_tokens': 77, 'total_tokens': 2343, 'completion_time': 4.849267562, 'prompt_time': 0.003161482, 'queue_time': 5.077415806, 'total_time': 4.852429044}, 'model_name': 'openai/gpt-oss-120b', 'system_fingerprint': 'fp_5c888d599f', 'service_tier': 'on_demand', 'finish_reason': 'stop', 'logprobs': None} id='run--8cedfe83-a88f-4e7a-a609-8be5e34ba5d4-0' usage_metadata={'input_tokens': 77, 'output_tokens': 2266, 'total_tokens': 2343}\n",
      "Assistant ## What Is Machine Learning?\n",
      "\n",
      "Machine Learning (ML) is a branch of artificial intelligence that gives computers the ability to **learn from data** and improve their performance on a task without being explicitly programmed for every possible scenario. Instead of writing step‑by‑step rules, we feed the system examples, let it discover patterns, and then use those patterns to make predictions or decisions on new, unseen data.\n",
      "\n",
      "---\n",
      "\n",
      "## Core Concepts\n",
      "\n",
      "| Concept | What It Means | Example |\n",
      "|---------|----------------|---------|\n",
      "| **Data** | The raw information (numbers, text, images, etc.) that the model learns from. | A table of house prices, a collection of photos, a log of user clicks. |\n",
      "| **Features** | Individual measurable properties extracted from the data. | Square footage, number of bedrooms, pixel intensities. |\n",
      "| **Label / Target** | The outcome we want the model to predict (only in supervised learning). | Sale price, “cat vs. dog”, next‑day stock return. |\n",
      "| **Model** | A mathematical function (or a network of functions) that maps features → predictions. | Linear regression line, decision tree, neural network. |\n",
      "| **Training** | The process of adjusting the model’s parameters so it fits the training data. | Gradient descent updating weights in a neural net. |\n",
      "| **Loss / Cost Function** | A metric that quantifies how far the model’s predictions are from the true labels. | Mean Squared Error, Cross‑Entropy. |\n",
      "| **Optimization** | An algorithm (e.g., gradient descent) that minimizes the loss by tweaking parameters. |\n",
      "| **Evaluation** | Measuring model performance on data it hasn’t seen during training (validation / test sets). | Accuracy, F1‑score, ROC‑AUC, RMSE. |\n",
      "| **Generalization** | The ability of a model to perform well on new, unseen data. |\n",
      "| **Overfitting / Underfitting** | Overfitting: model memorizes training data, performs poorly on new data. <br>Underfitting: model is too simple to capture underlying patterns. |\n",
      "| **Regularization** | Techniques (L1/L2 penalties, dropout, early stopping) that discourage overfitting. |\n",
      "\n",
      "---\n",
      "\n",
      "## Main Types of Machine Learning\n",
      "\n",
      "| Type | How It Works | Typical Tasks |\n",
      "|------|--------------|---------------|\n",
      "| **Supervised Learning** | Learns a mapping from **features → labels** using a labeled dataset. | Classification (spam vs. not spam), Regression (predict house price). |\n",
      "| **Unsupervised Learning** | Finds structure in **unlabeled** data—no explicit target. | Clustering (customer segmentation), Dimensionality reduction (PCA, t‑SNE). |\n",
      "| **Semi‑Supervised Learning** | Uses a small amount of labeled data plus a large amount of unlabeled data. | Improving image classifiers when labeling is expensive. |\n",
      "| **Reinforcement Learning (RL)** | An **agent** interacts with an environment, receives rewards, and learns a policy to maximize cumulative reward. | Game playing (AlphaGo), robotics, recommendation systems. |\n",
      "| **Self‑Supervised Learning** | Creates its own supervision signal from raw data (e.g., predicting masked words in a sentence). | Large‑scale language models (GPT, BERT), vision transformers. |\n",
      "\n",
      "---\n",
      "\n",
      "## Common Algorithms (A Quick Tour)\n",
      "\n",
      "| Category | Algorithm | When It’s Useful |\n",
      "|----------|-----------|------------------|\n",
      "| **Linear Models** | Linear Regression, Logistic Regression | Interpretable baselines; small‑to‑medium data. |\n",
      "| **Tree‑Based** | Decision Trees, Random Forests, Gradient Boosting (XGBoost, LightGBM, CatBoost) | Tabular data, handling mixed feature types, strong performance out‑of‑the‑box. |\n",
      "| **Support Vector Machines (SVM)** | Linear / kernel SVM | High‑dimensional spaces, limited data, clear margin. |\n",
      "| **Nearest Neighbors** | k‑Nearest Neighbors (k‑NN) | Simple, non‑parametric; works well for low‑dimensional data. |\n",
      "| **Neural Networks** | Feed‑forward (MLP), Convolutional Neural Networks (CNN), Recurrent Neural Networks (RNN), Transformers | Image, speech, text, sequential data; large datasets & GPUs. |\n",
      "| **Clustering** | k‑Means, DBSCAN, Hierarchical Clustering | Discover groups in unlabeled data. |\n",
      "| **Dimensionality Reduction** | Principal Component Analysis (PCA), t‑SNE, UMAP | Visualisation, noise reduction, speed‑up. |\n",
      "| **Reinforcement Learning** | Q‑Learning, Deep Q‑Network (DQN), Proximal Policy Optimization (PPO) | Game AI, robotics, control problems. |\n",
      "\n",
      "---\n",
      "\n",
      "## Typical Machine‑Learning Workflow\n",
      "\n",
      "1. **Define the Problem** – classification, regression, clustering, etc.\n",
      "2. **Collect & Explore Data** – gather raw data, visualize, compute statistics.\n",
      "3. **Preprocess** – clean missing values, encode categorical variables, scale/normalize, augment (for images/audio).\n",
      "4. **Feature Engineering** – create informative features, dimensionality reduction, feature selection.\n",
      "5. **Split Data** – training set (≈70‑80 %), validation set (≈10‑15 %), test set (≈10‑15 %).\n",
      "6. **Choose a Model** – start with simple baseline, then try more complex algorithms.\n",
      "7. **Train** – feed the training data, tune hyper‑parameters (learning rate, depth, regularization strength, etc.).\n",
      "8. **Validate** – monitor performance on validation set; use techniques like cross‑validation.\n",
      "9. **Test** – final unbiased evaluation on the hold‑out test set.\n",
      "10. **Deploy** – serve the model via API, embed in an app, or schedule batch predictions.\n",
      "11. **Monitor & Maintain** – track drift, retrain with new data, update as needed.\n",
      "\n",
      "---\n",
      "\n",
      "## Practical Tips for Success\n",
      "\n",
      "| Tip | Why It Helps |\n",
      "|-----|--------------|\n",
      "| **Start Simple** | Baseline models (logistic regression, random forest) give a performance reference and are easy to interpret. |\n",
      "| **Feature Importance** | Understanding which features drive predictions aids debugging and stakeholder trust. |\n",
      "| **Cross‑Validation** | Reduces variance in performance estimates, especially when data is limited. |\n",
      "| **Hyper‑Parameter Search** | Grid search, random search, or Bayesian optimization can uncover better configurations. |\n",
      "| **Regularization & Early Stopping** | Prevents overfitting, especially for high‑capacity models (deep nets). |\n",
      "| **Data Quality > Model Complexity** | Clean, representative data often yields bigger gains than a fancier algorithm. |\n",
      "| **Explainability** | Tools like SHAP, LIME, or feature importance plots help explain decisions to non‑technical audiences. |\n",
      "| **Ethics & Bias Checks** | Inspect training data and model outputs for unfair bias; consider fairness metrics. |\n",
      "| **Scalability** | For large datasets, use distributed training frameworks (Spark MLlib, TensorFlow Distributed, PyTorch DDP). |\n",
      "| **Version Control** | Keep track of data, code, and model versions (e.g., DVC, MLflow). |\n",
      "\n",
      "---\n",
      "\n",
      "## Real‑World Applications\n",
      "\n",
      "| Domain | Example Use Cases |\n",
      "|--------|-------------------|\n",
      "| **Healthcare** | Disease diagnosis from medical images, drug discovery, patient risk scoring. |\n",
      "| **Finance** | Credit scoring, fraud detection, algorithmic trading, portfolio optimization. |\n",
      "| **Retail & E‑Commerce** | Product recommendation, demand forecasting, dynamic pricing. |\n",
      "| **Transportation** | Route optimization, autonomous driving perception, traffic prediction. |\n",
      "| **Natural Language Processing** | Sentiment analysis, chatbots, machine translation, summarization. |\n",
      "| **Computer Vision** | Face recognition, object detection, video analytics, quality inspection. |\n",
      "| **Manufacturing** | Predictive maintenance, defect detection, process optimization. |\n",
      "| **Entertainment** | Content recommendation, music generation, video game AI. |\n",
      "\n",
      "---\n",
      "\n",
      "## Current Trends & Future Directions\n",
      "\n",
      "| Trend | What It Means |\n",
      "|-------|----------------|\n",
      "| **Foundation Models** | Huge, pre‑trained models (e.g., GPT‑4, CLIP, DALL·E) that can be fine‑tuned for many downstream tasks. |\n",
      "| **Self‑Supervised Learning** | Learning useful representations without labels, reducing reliance on expensive annotation. |\n",
      "| **Edge & TinyML** | Deploying ML models on low‑power devices (IoT, smartphones) with quantization and model compression. |\n",
      "| **Explainable AI (XAI)** | Growing emphasis on transparent, interpretable models for regulated industries. |\n",
      "| **Responsible AI** | Systematic frameworks for fairness, privacy (differential privacy), and robustness against adversarial attacks. |\n",
      "| **AutoML** | Automated pipeline building (feature engineering, model selection, hyper‑parameter tuning) to democratize ML. |\n",
      "| **Hybrid AI** | Combining symbolic reasoning with neural networks for better reasoning and data efficiency. |\n",
      "\n",
      "---\n",
      "\n",
      "## Quick Glossary\n",
      "\n",
      "- **Epoch** – One full pass through the training dataset.\n",
      "- **Batch / Mini‑batch** – Subset of training samples used to compute a gradient step.\n",
      "- **Learning Rate** – Step size for updating model parameters during optimization.\n",
      "- **Embedding** – Dense vector representation of high‑dimensional categorical or textual data.\n",
      "- **Dropout** – Randomly zeroes out neurons during training to reduce overfitting.\n",
      "- **Transfer Learning** – Re‑using a model trained on one task for another, often with fine‑tuning.\n",
      "- **Ensemble** – Combining multiple models (e.g., bagging, boosting) to improve performance.\n",
      "\n",
      "---\n",
      "\n",
      "### TL;DR\n",
      "\n",
      "Machine learning lets computers learn patterns from data instead of following hand‑written rules. It works by training models—mathematical functions—on labeled (supervised) or unlabeled (unsupervised) data, optimizing a loss function, and evaluating how well the model generalizes to new inputs. The field includes a rich toolbox of algorithms (linear models, trees, neural nets, clustering, RL, etc.), a standard workflow (collect → clean → feature → train → evaluate → deploy), and countless applications across industry and research. Staying mindful of data quality, model interpretability, and ethical considerations is as important as mastering the algorithms themselves.\n",
      "Bye...\n"
     ]
    }
   ],
   "source": [
    "while True:\n",
    "    user_input = input(\"User: \")\n",
    "    if user_input.lower() in [\"quit\",\"q\"]:\n",
    "        print(\"Bye...\")\n",
    "        break\n",
    "    for event in graph.stream({'messages':('user',user_input)}):\n",
    "        print(event.values())\n",
    "        for value in event.values():\n",
    "            print(value['messages']) \n",
    "            print(\"Assistant\",value['messages'].content)"
   ]
  },
  {
   "cell_type": "code",
   "execution_count": null,
   "id": "3d7f1c5c",
   "metadata": {},
   "outputs": [],
   "source": []
  }
 ],
 "metadata": {
  "kernelspec": {
   "display_name": "Python 3",
   "language": "python",
   "name": "python3"
  },
  "language_info": {
   "codemirror_mode": {
    "name": "ipython",
    "version": 3
   },
   "file_extension": ".py",
   "mimetype": "text/x-python",
   "name": "python",
   "nbconvert_exporter": "python",
   "pygments_lexer": "ipython3",
   "version": "3.12.11"
  }
 },
 "nbformat": 4,
 "nbformat_minor": 5
}
